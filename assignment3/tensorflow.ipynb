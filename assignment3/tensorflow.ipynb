{
 "cells": [
  {
   "cell_type": "markdown",
   "metadata": {},
   "source": [
    "# Assignment 3 - Tensorflow\n",
    "\n",
    "Implementing a Linear Classifier for polarity movie reviews.\n",
    "\n",
    "See course homepage: http://stp.lingfil.uu.se/~nivre/master/ml.html\n",
    "\n",
    "See assignment: http://stp.lingfil.uu.se/~shaooyan/ml18/Assignment3.pdf "
   ]
  },
  {
   "cell_type": "markdown",
   "metadata": {},
   "source": [
    "## Imports"
   ]
  },
  {
   "cell_type": "code",
   "execution_count": 73,
   "metadata": {
    "ExecuteTime": {
     "end_time": "2018-05-17T16:22:33.583743Z",
     "start_time": "2018-05-17T16:22:33.580649Z"
    }
   },
   "outputs": [],
   "source": [
    "import pandas as pd\n",
    "import tensorflow as tf\n",
    "import numpy as np\n",
    "\n",
    "import matplotlib.pyplot as plt\n",
    "\n",
    "import util\n",
    "import collections\n",
    "import time"
   ]
  },
  {
   "cell_type": "markdown",
   "metadata": {},
   "source": [
    "## Prepare Dataset"
   ]
  },
  {
   "cell_type": "code",
   "execution_count": 72,
   "metadata": {
    "ExecuteTime": {
     "end_time": "2018-05-17T16:17:14.933984Z",
     "start_time": "2018-05-17T16:16:31.025476Z"
    }
   },
   "outputs": [
    {
     "name": "stdout",
     "output_type": "stream",
     "text": [
      "Number of features: 50920\n"
     ]
    }
   ],
   "source": [
    "# Type of features to use. This can be set to 'bigram' or 'unigram+bigram'\n",
    "# to use bigram features instead of or in addition to unigram features.\n",
    "# Not required for assignment.\n",
    "feature_type = 'unigram'\n",
    "\n",
    "data = util.load_movie_data('poldata.zip')\n",
    "\n",
    "data.select_feature_type(feature_type)\n",
    "\n",
    "# Split the data set randomly into training, validation and test sets.\n",
    "training_data, val_data, test_data = data.train_val_test_split()\n",
    "\n",
    "nfeatures = len(training_data.vocabulary)\n",
    "\n",
    "# Convert the sparse indices into dense vectors\n",
    "ds_training = util.sparse_to_dense(training_data, nfeatures)\n",
    "ds_val = util.sparse_to_dense(val_data, nfeatures)\n",
    "ds_test = util.sparse_to_dense(test_data, nfeatures)\n",
    "\n",
    "print(\"Number of features: %s\" % nfeatures)"
   ]
  },
  {
   "cell_type": "markdown",
   "metadata": {},
   "source": [
    "## Convert to sparse data\n",
    "\n",
    "It is a bit pointless to first create the dense data and then transform it into sparse data,\n",
    "however I didn't want to mess with the internal data structures.\n",
    "\n",
    "See https://www.tensorflow.org/api_docs/python/tf/SparseTensor for a documentation (SparseTensorValue is should be used outside of a Graph context). In the graph, a `sparse_placeholder` has to be used, as well as the `sparse_tensor_dense_matmul` instead of `matmul` to multiply the weights and the features (https://www.tensorflow.org/api_docs/python/tf/sparse_tensor_dense_matmul)."
   ]
  },
  {
   "cell_type": "code",
   "execution_count": 66,
   "metadata": {
    "ExecuteTime": {
     "end_time": "2018-05-17T16:05:43.230634Z",
     "start_time": "2018-05-17T16:05:37.058449Z"
    },
    "scrolled": false
   },
   "outputs": [],
   "source": [
    "def generate_indices(dense_matrix):\n",
    "    for r_i, row in enumerate(dense_matrix):\n",
    "        for c_i in np.nditer(np.where(row == 1)):\n",
    "            yield r_i, int(c_i)\n",
    "\n",
    "def dense_to_sparse(dense_matrix):            \n",
    "    np_matrix = np.asarray(dense_matrix)\n",
    "    indices = list(generate_indices(np_matrix))\n",
    "    values = [1 for _ in indices]\n",
    "    \n",
    "    return tf.SparseTensorValue(indices, values, np_matrix.shape)\n",
    "\n",
    "sp_training = dense_to_sparse(ds_training)\n",
    "sp_test = dense_to_sparse(ds_test)\n",
    "sp_val = dense_to_sparse(ds_val)"
   ]
  },
  {
   "cell_type": "markdown",
   "metadata": {},
   "source": [
    "## Loss Functions (Task 7)"
   ]
  },
  {
   "cell_type": "code",
   "execution_count": 5,
   "metadata": {
    "ExecuteTime": {
     "end_time": "2018-05-17T15:06:55.061213Z",
     "start_time": "2018-05-17T15:06:55.056250Z"
    }
   },
   "outputs": [],
   "source": [
    "def logistic_loss(y, pred):\n",
    "    y = tf.cast(y, tf.float32)\n",
    "    pred = tf.cast(pred, tf.float32)\n",
    "    return tf.reduce_mean(tf.log(1.0 + tf.exp(-y*pred)))\n",
    "\n",
    "def hinge_loss(y, pred):\n",
    "    y = tf.cast(y, tf.float32)\n",
    "    pred = tf.cast(pred, tf.float32)\n",
    "    return tf.losses.hinge_loss(y, pred)\n",
    "\n",
    "def mse_loss(y, pred):\n",
    "    y = tf.cast(y, tf.float32)\n",
    "    pred = tf.cast(pred, tf.float32)\n",
    "    return tf.losses.mean_squared_error(y, pred)"
   ]
  },
  {
   "cell_type": "markdown",
   "metadata": {},
   "source": [
    "## Hyperparameters"
   ]
  },
  {
   "cell_type": "code",
   "execution_count": 6,
   "metadata": {
    "ExecuteTime": {
     "end_time": "2018-05-17T15:07:01.306394Z",
     "start_time": "2018-05-17T15:06:58.009778Z"
    }
   },
   "outputs": [],
   "source": [
    "# Regularisation strength\n",
    "reg_lambda = 0.001\n",
    "\n",
    "# Learning rate\n",
    "learning_rate = 0.001\n",
    "\n",
    "# Number of training iterations\n",
    "niterations = 15\n",
    "\n",
    "# Loss function to use\n",
    "loss_function = mse_loss\n",
    "loss_function_name = \"mse_loss\"\n",
    "\n",
    "# Type of regularisation to use (select one and comment out the other)\n",
    "regulariser = tf.contrib.layers.l2_regularizer(reg_lambda)\n",
    "# regulariser = tf.contrib.layers.l1_regularizer(reg_lambda)\n",
    "regulariser_name = \"l2\"\n",
    "\n",
    "# This should only be enabled once you've decided on a final set\n",
    "# of hyperparameters\n",
    "enable_test_set_scoring = False"
   ]
  },
  {
   "cell_type": "markdown",
   "metadata": {},
   "source": [
    "## Building the Computational Graph"
   ]
  },
  {
   "cell_type": "code",
   "execution_count": 64,
   "metadata": {
    "ExecuteTime": {
     "end_time": "2018-05-17T16:01:38.399431Z",
     "start_time": "2018-05-17T16:01:38.268676Z"
    }
   },
   "outputs": [],
   "source": [
    "graph = tf.Graph()\n",
    "\n",
    "with graph.as_default():\n",
    "    with tf.variable_scope('classifier'):\n",
    "\n",
    "        # Define the placeholder where we feed in the data\n",
    "        features = tf.sparse_placeholder(tf.int32, [None, nfeatures],\n",
    "                                         name='input_placeholder')\n",
    "\n",
    "        labels = tf.placeholder(tf.float16, [None], name='labels_placeholder')\n",
    "        \n",
    "        # Variables are what we try to estimate!\n",
    "        # Define the weights of the classifier\n",
    "        weights = tf.get_variable('weights', [nfeatures],\n",
    "                                  initializer=tf.zeros_initializer())\n",
    "        \n",
    "        # The bias is a scalar\n",
    "        bias = tf.get_variable('bias', [],\n",
    "                               initializer=tf.zeros_initializer())\n",
    "\n",
    "        # Two tensors must have same dtype and compatible shape for dot product\n",
    "        features = tf.cast(features, tf.float32)\n",
    "        \n",
    "        exp_weights = tf.reshape(weights, [nfeatures, 1])\n",
    "\n",
    "        # Compute dot product\n",
    "        logits = tf.sparse_tensor_dense_matmul(features, exp_weights)\n",
    "        \n",
    "        logits = tf.add(logits, bias) # TODO Is this correct?\n",
    "        \n",
    "        # Reshape the result to a vector to remove the dimension\n",
    "        # added to `exp_weights`.\n",
    "        logits = tf.reshape(logits, [-1])\n",
    "        # Define loss\n",
    "\n",
    "        loss_ureg = loss_function(labels, logits)\n",
    "\n",
    "        # Regularisation\n",
    "        loss_reg = regulariser(weights)\n",
    "        loss = loss_ureg + loss_reg\n",
    "\n",
    "        # Configuerate gradient descent\n",
    "        config = tf.train.GradientDescentOptimizer(learning_rate).minimize(loss)\n",
    "\n",
    "        # Initialiser\n",
    "        init = tf.global_variables_initializer()\n",
    "\n",
    "graph.finalize()"
   ]
  },
  {
   "cell_type": "markdown",
   "metadata": {},
   "source": [
    "## Training"
   ]
  },
  {
   "cell_type": "code",
   "execution_count": 74,
   "metadata": {
    "ExecuteTime": {
     "end_time": "2018-05-17T16:23:16.943401Z",
     "start_time": "2018-05-17T16:23:08.683138Z"
    }
   },
   "outputs": [
    {
     "name": "stdout",
     "output_type": "stream",
     "text": [
      "Run 15 iterations...\n",
      "Iteration 0: training_loss_reg 1, training_loss_unreg 1, training_acc 0.6025, val_loss 0.998286, val_acc 0.555\n",
      "Iteration 1: training_loss_reg 0.997696, training_loss_unreg 0.997696, training_acc 0.635625, val_loss 0.996574, val_acc 0.585\n",
      "Iteration 2: training_loss_reg 0.995413, training_loss_unreg 0.995413, training_acc 0.660625, val_loss 0.994863, val_acc 0.6\n",
      "Iteration 3: training_loss_reg 0.993149, training_loss_unreg 0.993149, training_acc 0.686875, val_loss 0.993153, val_acc 0.635\n",
      "Iteration 4: training_loss_reg 0.990899, training_loss_unreg 0.990899, training_acc 0.70875, val_loss 0.991445, val_acc 0.65\n",
      "Iteration 5: training_loss_reg 0.988662, training_loss_unreg 0.988662, training_acc 0.730625, val_loss 0.989739, val_acc 0.665\n",
      "Iteration 6: training_loss_reg 0.986436, training_loss_unreg 0.986436, training_acc 0.754375, val_loss 0.988035, val_acc 0.7\n",
      "Iteration 7: training_loss_reg 0.984222, training_loss_unreg 0.984222, training_acc 0.76875, val_loss 0.986333, val_acc 0.715\n",
      "Iteration 8: training_loss_reg 0.982017, training_loss_unreg 0.982017, training_acc 0.783125, val_loss 0.984635, val_acc 0.71\n",
      "Iteration 9: training_loss_reg 0.979823, training_loss_unreg 0.979823, training_acc 0.796875, val_loss 0.982941, val_acc 0.72\n",
      "Iteration 10: training_loss_reg 0.977637, training_loss_unreg 0.977637, training_acc 0.805, val_loss 0.98125, val_acc 0.74\n",
      "Iteration 11: training_loss_reg 0.975461, training_loss_unreg 0.975461, training_acc 0.81875, val_loss 0.979565, val_acc 0.745\n",
      "Iteration 12: training_loss_reg 0.973293, training_loss_unreg 0.973293, training_acc 0.825625, val_loss 0.977884, val_acc 0.745\n",
      "Iteration 13: training_loss_reg 0.971134, training_loss_unreg 0.971134, training_acc 0.83125, val_loss 0.976209, val_acc 0.75\n",
      "Iteration 14: training_loss_reg 0.968984, training_loss_unreg 0.968984, training_acc 0.838125, val_loss 0.974539, val_acc 0.755\n",
      "Training completed.\n"
     ]
    }
   ],
   "source": [
    "# Define a training session and train the classifier\n",
    "sess = tf.Session(graph=graph)\n",
    "writer = tf.summary.FileWriter(\"output\", sess.graph)\n",
    "\n",
    "def predict(input_features):\n",
    "    \"\"\"Applies the classifier to the data and returns a list of predicted labels.\"\"\"\n",
    "    predictions = []\n",
    "    pred = sess.run(logits, feed_dict={features: input_features})\n",
    "    for x in pred:\n",
    "        if x > 0:\n",
    "            predictions.append(1.0)\n",
    "        else:\n",
    "            predictions.append(-1.0)\n",
    "    return predictions\n",
    "\n",
    "def accuracy(gold, hypothesis):\n",
    "    \"\"\"Computes an accuracy score given two vectors of labels.\"\"\"\n",
    "    assert len(gold) == len(hypothesis)\n",
    "    return sum(g == h for g, h in zip(gold, hypothesis)) / len(gold)\n",
    "\n",
    "# Before starting, initialize the variables. We will 'run' this first.\n",
    "sess.run(init)\n",
    "training_log = []\n",
    "\n",
    "# Training iterations\n",
    "print(\"Run %s iterations...\" % niterations)\n",
    "\n",
    "stats = {\n",
    "    \"training_loss_reg\": [],\n",
    "    \"training_loss_unreg\": [],\n",
    "    \"training_acc\": [],\n",
    "    \"val_loss\": [],\n",
    "    \"val_acc\": []\n",
    "}\n",
    "\n",
    "training_log = []\n",
    "for i in range(niterations):\n",
    "    _, t_loss_unreg, t_loss_reg = sess.run(\n",
    "        [config, loss_ureg, loss],\n",
    "        feed_dict={features: sp_training, labels: training_data.labels})\n",
    "\n",
    "    v_loss = sess.run(loss, feed_dict={features: sp_val, labels:val_data.labels})\n",
    "\n",
    "    training_predictions = predict(sp_training)\n",
    "    training_accuracy = accuracy(training_data.labels, training_predictions)\n",
    "\n",
    "    val_predictions = predict(sp_val)\n",
    "    val_accuracy = accuracy(val_data.labels, val_predictions)\n",
    "    \n",
    "    # Build statistics for pandas\n",
    "    stats['training_loss_reg'].append(t_loss_reg)\n",
    "    stats['training_loss_unreg'].append(t_loss_unreg)\n",
    "    stats['training_acc'].append(training_accuracy)\n",
    "    stats['val_loss'].append(v_loss)\n",
    "    stats['val_acc'].append(val_accuracy)\n",
    "    \n",
    "    # Collect statistics for the internal tool thing\n",
    "    log_record = collections.OrderedDict()\n",
    "    log_record['training_loss_reg'] = t_loss_unreg\n",
    "    log_record['training_loss_unreg'] = t_loss_reg\n",
    "    log_record['training_acc'] = training_accuracy\n",
    "    log_record['val_loss'] = v_loss\n",
    "    log_record['val_acc'] = val_accuracy\n",
    "\n",
    "    training_log.append(log_record)\n",
    "\n",
    "    # Display info on training progress\n",
    "    util.display_log_record(i, log_record)\n",
    "\n",
    "print('Training completed.')"
   ]
  },
  {
   "cell_type": "code",
   "execution_count": 75,
   "metadata": {
    "ExecuteTime": {
     "end_time": "2018-05-17T16:23:23.003024Z",
     "start_time": "2018-05-17T16:23:21.144621Z"
    }
   },
   "outputs": [
    {
     "data": {
      "text/html": [
       "<div>\n",
       "<style>\n",
       "    .dataframe thead tr:only-child th {\n",
       "        text-align: right;\n",
       "    }\n",
       "\n",
       "    .dataframe thead th {\n",
       "        text-align: left;\n",
       "    }\n",
       "\n",
       "    .dataframe tbody tr th {\n",
       "        vertical-align: top;\n",
       "    }\n",
       "</style>\n",
       "<table border=\"1\" class=\"dataframe\">\n",
       "  <thead>\n",
       "    <tr style=\"text-align: right;\">\n",
       "      <th></th>\n",
       "      <th>training_acc</th>\n",
       "      <th>training_loss_reg</th>\n",
       "      <th>training_loss_unreg</th>\n",
       "      <th>val_acc</th>\n",
       "      <th>val_loss</th>\n",
       "    </tr>\n",
       "  </thead>\n",
       "  <tbody>\n",
       "    <tr>\n",
       "      <th>0</th>\n",
       "      <td>0.602500</td>\n",
       "      <td>1.000000</td>\n",
       "      <td>1.000000</td>\n",
       "      <td>0.555</td>\n",
       "      <td>0.998286</td>\n",
       "    </tr>\n",
       "    <tr>\n",
       "      <th>1</th>\n",
       "      <td>0.635625</td>\n",
       "      <td>0.997696</td>\n",
       "      <td>0.997696</td>\n",
       "      <td>0.585</td>\n",
       "      <td>0.996574</td>\n",
       "    </tr>\n",
       "    <tr>\n",
       "      <th>2</th>\n",
       "      <td>0.660625</td>\n",
       "      <td>0.995413</td>\n",
       "      <td>0.995413</td>\n",
       "      <td>0.600</td>\n",
       "      <td>0.994863</td>\n",
       "    </tr>\n",
       "    <tr>\n",
       "      <th>3</th>\n",
       "      <td>0.686875</td>\n",
       "      <td>0.993149</td>\n",
       "      <td>0.993149</td>\n",
       "      <td>0.635</td>\n",
       "      <td>0.993153</td>\n",
       "    </tr>\n",
       "    <tr>\n",
       "      <th>4</th>\n",
       "      <td>0.708750</td>\n",
       "      <td>0.990899</td>\n",
       "      <td>0.990899</td>\n",
       "      <td>0.650</td>\n",
       "      <td>0.991445</td>\n",
       "    </tr>\n",
       "    <tr>\n",
       "      <th>5</th>\n",
       "      <td>0.730625</td>\n",
       "      <td>0.988662</td>\n",
       "      <td>0.988662</td>\n",
       "      <td>0.665</td>\n",
       "      <td>0.989739</td>\n",
       "    </tr>\n",
       "    <tr>\n",
       "      <th>6</th>\n",
       "      <td>0.754375</td>\n",
       "      <td>0.986436</td>\n",
       "      <td>0.986436</td>\n",
       "      <td>0.700</td>\n",
       "      <td>0.988035</td>\n",
       "    </tr>\n",
       "    <tr>\n",
       "      <th>7</th>\n",
       "      <td>0.768750</td>\n",
       "      <td>0.984222</td>\n",
       "      <td>0.984222</td>\n",
       "      <td>0.715</td>\n",
       "      <td>0.986333</td>\n",
       "    </tr>\n",
       "    <tr>\n",
       "      <th>8</th>\n",
       "      <td>0.783125</td>\n",
       "      <td>0.982017</td>\n",
       "      <td>0.982017</td>\n",
       "      <td>0.710</td>\n",
       "      <td>0.984635</td>\n",
       "    </tr>\n",
       "    <tr>\n",
       "      <th>9</th>\n",
       "      <td>0.796875</td>\n",
       "      <td>0.979823</td>\n",
       "      <td>0.979823</td>\n",
       "      <td>0.720</td>\n",
       "      <td>0.982941</td>\n",
       "    </tr>\n",
       "    <tr>\n",
       "      <th>10</th>\n",
       "      <td>0.805000</td>\n",
       "      <td>0.977637</td>\n",
       "      <td>0.977637</td>\n",
       "      <td>0.740</td>\n",
       "      <td>0.981250</td>\n",
       "    </tr>\n",
       "    <tr>\n",
       "      <th>11</th>\n",
       "      <td>0.818750</td>\n",
       "      <td>0.975461</td>\n",
       "      <td>0.975461</td>\n",
       "      <td>0.745</td>\n",
       "      <td>0.979565</td>\n",
       "    </tr>\n",
       "    <tr>\n",
       "      <th>12</th>\n",
       "      <td>0.825625</td>\n",
       "      <td>0.973293</td>\n",
       "      <td>0.973293</td>\n",
       "      <td>0.745</td>\n",
       "      <td>0.977884</td>\n",
       "    </tr>\n",
       "    <tr>\n",
       "      <th>13</th>\n",
       "      <td>0.831250</td>\n",
       "      <td>0.971134</td>\n",
       "      <td>0.971134</td>\n",
       "      <td>0.750</td>\n",
       "      <td>0.976209</td>\n",
       "    </tr>\n",
       "    <tr>\n",
       "      <th>14</th>\n",
       "      <td>0.838125</td>\n",
       "      <td>0.968984</td>\n",
       "      <td>0.968984</td>\n",
       "      <td>0.755</td>\n",
       "      <td>0.974539</td>\n",
       "    </tr>\n",
       "  </tbody>\n",
       "</table>\n",
       "</div>"
      ],
      "text/plain": [
       "    training_acc  training_loss_reg  training_loss_unreg  val_acc  val_loss\n",
       "0       0.602500           1.000000             1.000000    0.555  0.998286\n",
       "1       0.635625           0.997696             0.997696    0.585  0.996574\n",
       "2       0.660625           0.995413             0.995413    0.600  0.994863\n",
       "3       0.686875           0.993149             0.993149    0.635  0.993153\n",
       "4       0.708750           0.990899             0.990899    0.650  0.991445\n",
       "5       0.730625           0.988662             0.988662    0.665  0.989739\n",
       "6       0.754375           0.986436             0.986436    0.700  0.988035\n",
       "7       0.768750           0.984222             0.984222    0.715  0.986333\n",
       "8       0.783125           0.982017             0.982017    0.710  0.984635\n",
       "9       0.796875           0.979823             0.979823    0.720  0.982941\n",
       "10      0.805000           0.977637             0.977637    0.740  0.981250\n",
       "11      0.818750           0.975461             0.975461    0.745  0.979565\n",
       "12      0.825625           0.973293             0.973293    0.745  0.977884\n",
       "13      0.831250           0.971134             0.971134    0.750  0.976209\n",
       "14      0.838125           0.968984             0.968984    0.755  0.974539"
      ]
     },
     "execution_count": 75,
     "metadata": {},
     "output_type": "execute_result"
    },
    {
     "data": {
      "image/png": "[encoded data removed]",
      "text/plain": [
       "<Figure size 1440x1800 with 6 Axes>"
      ]
     },
     "metadata": {},
     "output_type": "display_data"
    }
   ],
   "source": [
    "df = pd.DataFrame.from_dict(stats)\n",
    "\n",
    "df.plot(subplots=True, layout=(-1, 2), figsize=(20, 25), sharex=False, sharey=False)\n",
    "\n",
    "plt.savefig('graphs_%s.pdf' % time.time())\n",
    "\n",
    "df"
   ]
  },
  {
   "cell_type": "markdown",
   "metadata": {},
   "source": [
    "## Evaluation"
   ]
  },
  {
   "cell_type": "code",
   "execution_count": 76,
   "metadata": {
    "ExecuteTime": {
     "end_time": "2018-05-17T16:23:30.909439Z",
     "start_time": "2018-05-17T16:23:30.550244Z"
    },
    "scrolled": false
   },
   "outputs": [
    {
     "name": "stdout",
     "output_type": "stream",
     "text": [
      "=====================\n",
      "MODEL CHARACTERISTICS\n",
      "=====================\n",
      "\n",
      "\n",
      "Data set: Movie reviews - Regulariser: 0.001 - Learning rate: 0.001\n",
      "\n",
      "Best regularised training loss: 0.968984\n",
      "Final regularised training loss: 0.968984\n",
      "Best validation loss: 0.974539\n",
      "Final validation loss: 0.974539\n",
      "\n",
      "Number of weights: 50920\n",
      "Bias: -5.70449e-05\n",
      "Number of weights with magnitude > 0.01: 0\n",
      "\n",
      "Top 1 positive features:\n",
      "0.00219916\tlife\n",
      "\n",
      "Top 1 negative features:\n",
      "-0.00388995\tbad\n"
     ]
    }
   ],
   "source": [
    "print('=====================')\n",
    "print('MODEL CHARACTERISTICS')\n",
    "print('=====================')\n",
    "print()\n",
    "\n",
    "# Display some useful statistics about the model and the training process.\n",
    "title = 'Data set: %s - Regulariser: %g - Learning rate: %g' % (data.name, reg_lambda, learning_rate)\n",
    "\n",
    "print()\n",
    "\n",
    "final_weights = sess.run(weights)\n",
    "final_bias = sess.run(bias)\n",
    "util.show_stats(title, training_log, final_weights, final_bias, data.vocabulary,\n",
    "                top_n=1, write_to_file=\"results.csv\", configuration={\n",
    "                    'reg_lambda': reg_lambda,\n",
    "                    'learning_rate': learning_rate,\n",
    "                    'loss_function': loss_function_name,\n",
    "                    'regulariser': regulariser_name,\n",
    "                    'niterations': niterations,\n",
    "                    'val_accuracy': val_accuracy\n",
    "                })\n",
    "\n",
    "\n",
    "# util.create_plots(title, training_log, weights, log_keys=['training_loss_reg', 'val_loss'])\n",
    "\n",
    "if enable_test_set_scoring:\n",
    "    # Check the performance on the test set.\n",
    "    test_loss = sess.run(loss, feed_dict={features: ds_test, labels:test_data.labels})\n",
    "    test_predictions = predict(ds_test)\n",
    "    test_accuracy = accuracy(test_data.labels, test_predictions)\n",
    "\n",
    "    print()\n",
    "    print('====================')\n",
    "    print('TEST SET PERFORMANCE')\n",
    "    print('====================')\n",
    "    print()\n",
    "    print('Test loss: %g' % test_loss)\n",
    "    print('Test accuracy: %g' % test_accuracy)\n",
    "    "
   ]
  },
  {
   "cell_type": "markdown",
   "metadata": {},
   "source": [
    "## Task 6\n",
    "\n",
    "Run with standard parameters.\n",
    "\n",
    "Top 10 positive words:\n",
    "\n",
    "1. life\n",
    "2. also\n",
    "3. best\n",
    "4. world\n",
    "5. many\n",
    "6. both\n",
    "7. perfect\n",
    "8. performances\n",
    "9. very\n",
    "10. great\n",
    "\n",
    "Top 10 negative words:\n",
    "bad\n",
    "1. worst\n",
    "2. plot\n",
    "3. stupid\n",
    "4. ?\n",
    "5. boring\n",
    "6. script\n",
    "7. nothing\n",
    "8. why\n",
    "9. least\n",
    "10. !"
   ]
  }
 ],
 "metadata": {
  "kernelspec": {
   "display_name": "venv",
   "language": "python",
   "name": "venv"
  },
  "language_info": {
   "codemirror_mode": {
    "name": "ipython",
    "version": 3
   },
   "file_extension": ".py",
   "mimetype": "text/x-python",
   "name": "python",
   "nbconvert_exporter": "python",
   "pygments_lexer": "ipython3",
   "version": "3.4.8"
  },
  "notify_time": "10",
  "varInspector": {
   "cols": {
    "lenName": 16,
    "lenType": 16,
    "lenVar": 40
   },
   "kernels_config": {
    "python": {
     "delete_cmd_postfix": "",
     "delete_cmd_prefix": "del ",
     "library": "var_list.py",
     "varRefreshCmd": "print(var_dic_list())"
    },
    "r": {
     "delete_cmd_postfix": ") ",
     "delete_cmd_prefix": "rm(",
     "library": "var_list.r",
     "varRefreshCmd": "cat(var_dic_list()) "
    }
   },
   "oldHeight": 434,
   "position": {
    "height": "40px",
    "left": "851px",
    "right": "20px",
    "top": "80px",
    "width": "528px"
   },
   "types_to_exclude": [
    "module",
    "function",
    "builtin_function_or_method",
    "instance",
    "_Feature"
   ],
   "varInspector_section_display": "none",
   "window_display": false
  }
 },
 "nbformat": 4,
 "nbformat_minor": 1
}
